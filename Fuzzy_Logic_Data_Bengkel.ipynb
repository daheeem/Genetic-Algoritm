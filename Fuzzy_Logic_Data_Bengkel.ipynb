{
  "cells": [
    {
      "cell_type": "markdown",
      "metadata": {
        "id": "view-in-github",
        "colab_type": "text"
      },
      "source": [
        "<a href=\"https://colab.research.google.com/github/daheeem/Genetic-Algoritm/blob/main/Fuzzy_Logic_Data_Bengkel.ipynb\" target=\"_parent\"><img src=\"https://colab.research.google.com/assets/colab-badge.svg\" alt=\"Open In Colab\"/></a>"
      ]
    },
    {
      "cell_type": "markdown",
      "source": [
        "**FUZZY LOGIC**"
      ],
      "metadata": {
        "id": "t2JV7XKw-QfZ"
      }
    },
    {
      "cell_type": "code",
      "execution_count": 2,
      "metadata": {
        "id": "aIQjTGtxmJl-"
      },
      "outputs": [],
      "source": [
        "import numpy as np\n"
      ]
    },
    {
      "cell_type": "code",
      "execution_count": 1,
      "metadata": {
        "colab": {
          "base_uri": "https://localhost:8080/",
          "height": 73
        },
        "id": "Zb37vvI7WVwR",
        "outputId": "52f8f571-3049-4365-ad47-215d4666dc23"
      },
      "outputs": [
        {
          "output_type": "display_data",
          "data": {
            "text/plain": [
              "<IPython.core.display.HTML object>"
            ],
            "text/html": [
              "\n",
              "     <input type=\"file\" id=\"files-a99c65f3-c87d-43da-9b3e-1aac594ca74e\" name=\"files[]\" multiple disabled\n",
              "        style=\"border:none\" />\n",
              "     <output id=\"result-a99c65f3-c87d-43da-9b3e-1aac594ca74e\">\n",
              "      Upload widget is only available when the cell has been executed in the\n",
              "      current browser session. Please rerun this cell to enable.\n",
              "      </output>\n",
              "      <script>// Copyright 2017 Google LLC\n",
              "//\n",
              "// Licensed under the Apache License, Version 2.0 (the \"License\");\n",
              "// you may not use this file except in compliance with the License.\n",
              "// You may obtain a copy of the License at\n",
              "//\n",
              "//      http://www.apache.org/licenses/LICENSE-2.0\n",
              "//\n",
              "// Unless required by applicable law or agreed to in writing, software\n",
              "// distributed under the License is distributed on an \"AS IS\" BASIS,\n",
              "// WITHOUT WARRANTIES OR CONDITIONS OF ANY KIND, either express or implied.\n",
              "// See the License for the specific language governing permissions and\n",
              "// limitations under the License.\n",
              "\n",
              "/**\n",
              " * @fileoverview Helpers for google.colab Python module.\n",
              " */\n",
              "(function(scope) {\n",
              "function span(text, styleAttributes = {}) {\n",
              "  const element = document.createElement('span');\n",
              "  element.textContent = text;\n",
              "  for (const key of Object.keys(styleAttributes)) {\n",
              "    element.style[key] = styleAttributes[key];\n",
              "  }\n",
              "  return element;\n",
              "}\n",
              "\n",
              "// Max number of bytes which will be uploaded at a time.\n",
              "const MAX_PAYLOAD_SIZE = 100 * 1024;\n",
              "\n",
              "function _uploadFiles(inputId, outputId) {\n",
              "  const steps = uploadFilesStep(inputId, outputId);\n",
              "  const outputElement = document.getElementById(outputId);\n",
              "  // Cache steps on the outputElement to make it available for the next call\n",
              "  // to uploadFilesContinue from Python.\n",
              "  outputElement.steps = steps;\n",
              "\n",
              "  return _uploadFilesContinue(outputId);\n",
              "}\n",
              "\n",
              "// This is roughly an async generator (not supported in the browser yet),\n",
              "// where there are multiple asynchronous steps and the Python side is going\n",
              "// to poll for completion of each step.\n",
              "// This uses a Promise to block the python side on completion of each step,\n",
              "// then passes the result of the previous step as the input to the next step.\n",
              "function _uploadFilesContinue(outputId) {\n",
              "  const outputElement = document.getElementById(outputId);\n",
              "  const steps = outputElement.steps;\n",
              "\n",
              "  const next = steps.next(outputElement.lastPromiseValue);\n",
              "  return Promise.resolve(next.value.promise).then((value) => {\n",
              "    // Cache the last promise value to make it available to the next\n",
              "    // step of the generator.\n",
              "    outputElement.lastPromiseValue = value;\n",
              "    return next.value.response;\n",
              "  });\n",
              "}\n",
              "\n",
              "/**\n",
              " * Generator function which is called between each async step of the upload\n",
              " * process.\n",
              " * @param {string} inputId Element ID of the input file picker element.\n",
              " * @param {string} outputId Element ID of the output display.\n",
              " * @return {!Iterable<!Object>} Iterable of next steps.\n",
              " */\n",
              "function* uploadFilesStep(inputId, outputId) {\n",
              "  const inputElement = document.getElementById(inputId);\n",
              "  inputElement.disabled = false;\n",
              "\n",
              "  const outputElement = document.getElementById(outputId);\n",
              "  outputElement.innerHTML = '';\n",
              "\n",
              "  const pickedPromise = new Promise((resolve) => {\n",
              "    inputElement.addEventListener('change', (e) => {\n",
              "      resolve(e.target.files);\n",
              "    });\n",
              "  });\n",
              "\n",
              "  const cancel = document.createElement('button');\n",
              "  inputElement.parentElement.appendChild(cancel);\n",
              "  cancel.textContent = 'Cancel upload';\n",
              "  const cancelPromise = new Promise((resolve) => {\n",
              "    cancel.onclick = () => {\n",
              "      resolve(null);\n",
              "    };\n",
              "  });\n",
              "\n",
              "  // Wait for the user to pick the files.\n",
              "  const files = yield {\n",
              "    promise: Promise.race([pickedPromise, cancelPromise]),\n",
              "    response: {\n",
              "      action: 'starting',\n",
              "    }\n",
              "  };\n",
              "\n",
              "  cancel.remove();\n",
              "\n",
              "  // Disable the input element since further picks are not allowed.\n",
              "  inputElement.disabled = true;\n",
              "\n",
              "  if (!files) {\n",
              "    return {\n",
              "      response: {\n",
              "        action: 'complete',\n",
              "      }\n",
              "    };\n",
              "  }\n",
              "\n",
              "  for (const file of files) {\n",
              "    const li = document.createElement('li');\n",
              "    li.append(span(file.name, {fontWeight: 'bold'}));\n",
              "    li.append(span(\n",
              "        `(${file.type || 'n/a'}) - ${file.size} bytes, ` +\n",
              "        `last modified: ${\n",
              "            file.lastModifiedDate ? file.lastModifiedDate.toLocaleDateString() :\n",
              "                                    'n/a'} - `));\n",
              "    const percent = span('0% done');\n",
              "    li.appendChild(percent);\n",
              "\n",
              "    outputElement.appendChild(li);\n",
              "\n",
              "    const fileDataPromise = new Promise((resolve) => {\n",
              "      const reader = new FileReader();\n",
              "      reader.onload = (e) => {\n",
              "        resolve(e.target.result);\n",
              "      };\n",
              "      reader.readAsArrayBuffer(file);\n",
              "    });\n",
              "    // Wait for the data to be ready.\n",
              "    let fileData = yield {\n",
              "      promise: fileDataPromise,\n",
              "      response: {\n",
              "        action: 'continue',\n",
              "      }\n",
              "    };\n",
              "\n",
              "    // Use a chunked sending to avoid message size limits. See b/62115660.\n",
              "    let position = 0;\n",
              "    do {\n",
              "      const length = Math.min(fileData.byteLength - position, MAX_PAYLOAD_SIZE);\n",
              "      const chunk = new Uint8Array(fileData, position, length);\n",
              "      position += length;\n",
              "\n",
              "      const base64 = btoa(String.fromCharCode.apply(null, chunk));\n",
              "      yield {\n",
              "        response: {\n",
              "          action: 'append',\n",
              "          file: file.name,\n",
              "          data: base64,\n",
              "        },\n",
              "      };\n",
              "\n",
              "      let percentDone = fileData.byteLength === 0 ?\n",
              "          100 :\n",
              "          Math.round((position / fileData.byteLength) * 100);\n",
              "      percent.textContent = `${percentDone}% done`;\n",
              "\n",
              "    } while (position < fileData.byteLength);\n",
              "  }\n",
              "\n",
              "  // All done.\n",
              "  yield {\n",
              "    response: {\n",
              "      action: 'complete',\n",
              "    }\n",
              "  };\n",
              "}\n",
              "\n",
              "scope.google = scope.google || {};\n",
              "scope.google.colab = scope.google.colab || {};\n",
              "scope.google.colab._files = {\n",
              "  _uploadFiles,\n",
              "  _uploadFilesContinue,\n",
              "};\n",
              "})(self);\n",
              "</script> "
            ]
          },
          "metadata": {}
        },
        {
          "output_type": "stream",
          "name": "stdout",
          "text": [
            "Saving bengkel.xlsx to bengkel.xlsx\n"
          ]
        }
      ],
      "source": [
        "#Mengimport data dari file bengkel.xlsx\n",
        "from google.colab import files\n",
        "TheFile = files.upload()"
      ]
    },
    {
      "cell_type": "code",
      "execution_count": 3,
      "metadata": {
        "colab": {
          "base_uri": "https://localhost:8080/"
        },
        "id": "1blkASAwW7Gu",
        "outputId": "362d52ce-ef7a-4d32-d544-11d7cdaf1fde"
      },
      "outputs": [
        {
          "output_type": "stream",
          "name": "stdout",
          "text": [
            "     id  servis  harga\n",
            "0     1      58      7\n",
            "1     2      54      1\n",
            "2     3      98      2\n",
            "3     4      52      4\n",
            "4     5      11      4\n",
            "..  ...     ...    ...\n",
            "95   96      30      1\n",
            "96   97      25      3\n",
            "97   98      27     10\n",
            "98   99       8      6\n",
            "99  100      11      8\n",
            "\n",
            "[100 rows x 3 columns]\n"
          ]
        }
      ],
      "source": [
        "#Membaca file bengkel.xlsx\n",
        "import pandas as pd\n",
        "data = pd.read_excel('bengkel.xlsx')\n",
        "print(data)"
      ]
    },
    {
      "cell_type": "markdown",
      "source": [
        "DESKRIPSI TUGAS\n",
        "\n",
        "Diberikan file bengkel.xlsx berupa himpunan data 100 bengkel mobil yang ada di kota Bandung dengan dua atribut: Kualitas Servis (bilangan real 1-100; semakin tinggi semakin baik) dan Harga (bilangan real 1-10, semakin tinggi semakin mahal). Bangunlah sebuah sistem berbasis Fuzzy Logic untuk memilih 10 bengkel terbaik di kota Bandung. Sistem membaca masukan file bengkel.xlsx dan mengeluarkan output berupa sebuah file peringkat.xlsx yang berisi 10 nomor/ID \n",
        "bengkel terbaik beserta skor-nya (output Defuzzification).\n",
        "\n"
      ],
      "metadata": {
        "id": "I22V3CC4_Bh-"
      }
    },
    {
      "cell_type": "markdown",
      "source": [
        "***INPUT DAN OUTPUT***\n",
        "\n",
        "**Nilai Linguistik (INPUT)**\n",
        "\n",
        "Kualitas Servis : Sangat Memuaskan, Memuaskan, Kurang Memuaskan, Tidak Memuaskan\n",
        "\n",
        "Harga :  Mahal, Normal, Murah\n",
        "\n",
        "**Nilai Linguistik (OUTPUT)**\n",
        "\n",
        "Nilai Kelayakan : Baik, Standar, Buruk\n"
      ],
      "metadata": {
        "id": "pJTK3-n3_JwU"
      }
    },
    {
      "cell_type": "code",
      "execution_count": 4,
      "metadata": {
        "colab": {
          "base_uri": "https://localhost:8080/",
          "height": 265
        },
        "id": "tPs_Llo_XzqL",
        "outputId": "cf614470-6492-4e86-e26a-e34619fc0464"
      },
      "outputs": [
        {
          "output_type": "display_data",
          "data": {
            "text/plain": [
              "<Figure size 432x288 with 1 Axes>"
            ],
            "image/png": "[encoded data removed]"
          },
          "metadata": {
            "needs_background": "light"
          }
        }
      ],
      "source": [
        "#Membuat grafik \n",
        "import matplotlib.pyplot as plt\n",
        "\n",
        "servis = {\n",
        "    'Tidak memuaskan' : [0.00, 0.00, 20.00,40.00 ],\n",
        "    'kurang memuaskan' : [20.00, 40.00 , 40.00, 60.00],\n",
        "    'memuaskan' : [40.00, 60.00, 60.00, 80.00],\n",
        "    'sangat memuaskan' : [60.00, 80.00, 100.00, 100.00],\n",
        "}\n",
        "\n",
        "Harga = {\n",
        "    'Murah' : [0.00, 0.00, 2.50, 5.00],\n",
        "    'Normal' : [2.50, 5.00, 5.00, 7.50],\n",
        "    'Mahal' : [5.00, 7.50, 10.00, 10.00]\n",
        "}\n",
        "\n",
        "def nilai(batas, warna, label=' ', min=0, max=1):\n",
        "  y = [0,1,1,0]\n",
        "  plt.plot((min,batas[0]), (0,0), warna)\n",
        "  for i in range(len(batas)-1):\n",
        "    plt.plot((batas[i], batas[i+1]), (y[i], y[i+1]), warna)\n",
        "  plt.plot((batas[-1], max), (0,0), warna, label=label)\n",
        "\n",
        "def grafik(membership, min = 0, max=1):\n",
        "  warna = ['r', 'g', 'b', 'y', 'm', 'c', 'k']\n",
        "  i = 0\n",
        "  for j in membership:\n",
        "    nilai(membership[j], warna[i], j, min=min, max=max)\n",
        "    i += 1\n",
        "  plt.legend(loc=3)\n",
        "  plt.show\n",
        "\n",
        "grafik(servis)"
      ]
    },
    {
      "cell_type": "code",
      "execution_count": 5,
      "metadata": {
        "colab": {
          "base_uri": "https://localhost:8080/",
          "height": 265
        },
        "id": "khVHab1JrR6J",
        "outputId": "2e6fca84-1a53-40fb-f0aa-1e07c0b28f55"
      },
      "outputs": [
        {
          "output_type": "display_data",
          "data": {
            "text/plain": [
              "<Figure size 432x288 with 1 Axes>"
            ],
            "image/png": "[encoded data removed]"
          },
          "metadata": {
            "needs_background": "light"
          }
        }
      ],
      "source": [
        "grafik(Harga)"
      ]
    },
    {
      "cell_type": "markdown",
      "source": [
        "**FUZZIFICATION**\n"
      ],
      "metadata": {
        "id": "ugRoODtCDPSU"
      }
    },
    {
      "cell_type": "code",
      "execution_count": 6,
      "metadata": {
        "id": "KKjKk_GquYLV"
      },
      "outputs": [],
      "source": [
        "#Fuzifikasi kualitas servis\n",
        "#Nilai linguistik = Sangat Memuaskan, Memuaskan, Kurang memuaskan, Tidak Memuaskan\n",
        "\n",
        "def fuzifikasiKualitasServis(servis):\n",
        "  hasil = [[\"Tidak Memuaskan\",0], [\"Kurang Memuaskan\",0], [\"Memuaskan\",0], [\"Sangat Memuaskan\",0]]\n",
        "\n",
        "  if servis <= 20:\n",
        "    hasil[0][1] = 1\n",
        "  elif servis > 20 and servis < 40:\n",
        "    x = (40 - servis)/(40 - 20)\n",
        "    y = (servis - 20)/(40 - 20)\n",
        "    hasil[0][1] = x\n",
        "    hasil[1][1] = y\n",
        "  elif servis == 40:\n",
        "    hasil[1][1] = 1\n",
        "  elif servis > 40 and servis < 60:\n",
        "    x = (60 - servis)/(60 - 40)\n",
        "    y = (servis - 40)/(60 - 40)\n",
        "    hasil[1][1] = x\n",
        "    hasil[2][1] = y\n",
        "  elif servis == 60:\n",
        "    hasil[2][1] = 1\n",
        "  elif servis > 60 and servis < 80:\n",
        "    x = (80 - servis)/(80 - 60)\n",
        "    y = (servis - 60)/(80 - 60)\n",
        "    hasil[2][1] = x\n",
        "    hasil[3][1] = y\n",
        "  elif servis >= 80:\n",
        "    hasil[3][1] = 1\n",
        "\n",
        "  return hasil"
      ]
    },
    {
      "cell_type": "code",
      "execution_count": 7,
      "metadata": {
        "id": "_w_Nm9AKu5Yp"
      },
      "outputs": [],
      "source": [
        "#Fuzifikasi Harga\n",
        "#Nilai linguistik = Mahal, Normal, Murah\n",
        "def fuzifikasiHarga(harga):\n",
        "  hasil = [[\"Murah\",0], [\"Normal\",0], [\"Mahal\",0],]\n",
        "  if harga <= 2.5:\n",
        "    hasil[0][1] = 1\n",
        "  elif harga > 2.5 and harga < 5:\n",
        "    x = (5 - harga)/(5 - 2.5)\n",
        "    y = (harga - 2.5)/(5 - 2.5)\n",
        "    hasil[0][1] = x\n",
        "    hasil[1][1] = y\n",
        "  elif harga == 5:\n",
        "    hasil[1][1] = 1\n",
        "  elif harga > 5 and harga < 7.5:\n",
        "    x = (7.5 - harga)/(7.5 - 5)\n",
        "    y = (harga - 5)/(7.5 - 5)\n",
        "    hasil[1][1] = x\n",
        "    hasil[2][1] = y\n",
        "  elif harga >= 7.5:\n",
        "    hasil[2][1] = 1\n",
        "\n",
        "  return hasil"
      ]
    },
    {
      "cell_type": "markdown",
      "metadata": {
        "id": "tTskw9NtJWXx"
      },
      "source": [
        "**INFERENSI** \n",
        "\n",
        "![Screenshot 2022-05-09 214835.png](data:image/png;base64,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)"
      ]
    },
    {
      "cell_type": "code",
      "execution_count": 8,
      "metadata": {
        "id": "M5Y6y5bQUJIX"
      },
      "outputs": [],
      "source": [
        "#Konjungsi Nilai kelayakan = Baik\n",
        "def conjunctionbaik(fuzharga, fuzkualitas):\n",
        "  baik = []\n",
        "  if (fuzharga[0][0] == \"Murah\" and fuzkualitas[2][0] == \"Memuaskan\"):\n",
        "    if fuzharga[0][1] < fuzkualitas[2][1]:\n",
        "      nilai = fuzharga[0][1]\n",
        "    else:\n",
        "      nilai = fuzkualitas[2][1]\n",
        "    baik.append(nilai)\n",
        "  if (fuzharga[0][0] == \"Murah\" and fuzkualitas[3][0] == \"Sangat Memuaskan\"):\n",
        "    if fuzharga[0][1] < fuzkualitas[3][1]:\n",
        "      nilai = fuzharga[0][1]\n",
        "    else:\n",
        "      nilai = fuzkualitas[3][1]\n",
        "    baik.append(nilai)\n",
        "\n",
        "  return baik"
      ]
    },
    {
      "cell_type": "code",
      "execution_count": 9,
      "metadata": {
        "id": "h0Ikzh8DUciM"
      },
      "outputs": [],
      "source": [
        "#Konjungsi Nilai kelayakan = Standar\n",
        "def conjunctionstandar(fuzharga, fuzkualitas):\n",
        "  standar = []\n",
        "\n",
        "  if (fuzharga[0][0] == \"Murah\" and fuzkualitas[1][0] == \"Kurang Memuaskan\"):\n",
        "    if fuzharga[0][1] < fuzkualitas[1][1]:\n",
        "      nilai = fuzharga[0][1]\n",
        "    else:\n",
        "      nilai = fuzkualitas[1][1]\n",
        "    standar.append(nilai)\n",
        "  if (fuzharga[1][0] == \"Normal\" and fuzkualitas[1][0] == \"Kurang Memuaskan\"):\n",
        "    if fuzharga[1][1] < fuzkualitas[1][1]:\n",
        "      nilai = fuzharga[1][1]\n",
        "    else:\n",
        "      nilai = fuzkualitas[1][1]\n",
        "    standar.append(nilai)  \n",
        "  if (fuzharga[1][0] == \"Normal\" and fuzkualitas[2][0] == \"Memuaskan\"):\n",
        "    if fuzharga[1][1] < fuzkualitas[2][1]:\n",
        "      nilai = fuzharga[1][1]\n",
        "    else:\n",
        "      nilai = fuzkualitas[2][1]\n",
        "    standar.append(nilai) \n",
        "  if (fuzharga[1][0] == \"Normal\" and fuzkualitas[3][0] == \"Sangat Memuaskan\"):\n",
        "    if fuzharga[1][1] < fuzkualitas[3][1]:\n",
        "      nilai = fuzharga[1][1]\n",
        "    else:\n",
        "      nilai = fuzkualitas[3][1]\n",
        "    standar.append(nilai)\n",
        "\n",
        "  return standar\n"
      ]
    },
    {
      "cell_type": "code",
      "execution_count": 10,
      "metadata": {
        "id": "MkstRnu_U5nN"
      },
      "outputs": [],
      "source": [
        "#Konjungsi Nilai kelayakan = Buruk\n",
        "def conjunctionburuk(fuzharga, fuzkualitas):\n",
        "  buruk = []\n",
        "  if (fuzharga[0][0] == \"Murah\" and fuzkualitas[0][0] == \"Tidak Memuaskan\"):\n",
        "    if fuzharga[0][1] < fuzkualitas[0][1]:\n",
        "      nilai = fuzharga[0][1]\n",
        "    else:\n",
        "      nilai = fuzkualitas[0][1]\n",
        "    buruk.append(nilai)\n",
        "  if (fuzharga[1][0] == \"Normal\" and fuzkualitas[0][0] == \"Tidak Memuaskan\"):\n",
        "    if fuzharga[1][1] < fuzkualitas[0][1]:\n",
        "      nilai = fuzharga[1][1]\n",
        "    else:\n",
        "      nilai = fuzkualitas[0][1]\n",
        "    buruk.append(nilai)\n",
        "  if (fuzharga[2][0] == \"Mahal\" and fuzkualitas[0][0] == \"Tidak Memuaskan\"):\n",
        "    if fuzharga[2][1] < fuzkualitas[0][1]:\n",
        "      nilai = fuzharga[2][1]\n",
        "    else:\n",
        "      nilai = fuzkualitas[0][1]\n",
        "    buruk.append(nilai)\n",
        "  if (fuzharga[2][0] == \"Mahal\" and fuzkualitas[1][0] == \"Kurang Memuaskan\"):\n",
        "    if fuzharga[2][1] < fuzkualitas[1][1]:\n",
        "      nilai = fuzharga[2][1]\n",
        "    else:\n",
        "      nilai = fuzkualitas[1][1]\n",
        "    buruk.append(nilai)\n",
        "  if (fuzharga[2][0] == \"Mahal\" and fuzkualitas[2][0] == \"Memuaskan\"):\n",
        "    if fuzharga[2][1] < fuzkualitas[2][1]:\n",
        "      nilai = fuzharga[2][1]\n",
        "    else:\n",
        "      nilai = fuzkualitas[2][1]\n",
        "    buruk.append(nilai)\n",
        "  if (fuzharga[2][0] == \"Mahal\" and fuzkualitas[3][0] == \"Sangat Memuaskan\"):\n",
        "    if fuzharga[2][1] < fuzkualitas[3][1]:\n",
        "      nilai = fuzharga[2][1]\n",
        "    else:\n",
        "      nilai = fuzkualitas[3][1]\n",
        "    buruk.append(nilai)\n",
        "  return buruk\n"
      ]
    },
    {
      "cell_type": "markdown",
      "source": [
        "**DEFUZZIFICATION: SUGENO MODEL**\n"
      ],
      "metadata": {
        "id": "vZRiYD_bC482"
      }
    },
    {
      "cell_type": "code",
      "execution_count": 11,
      "metadata": {
        "id": "b7ekMB8oJaE-"
      },
      "outputs": [],
      "source": [
        "#Deffuzification\n",
        "#Nilai kelayakan:\n",
        "#                 Baik = 75\n",
        "#                 Standar = 50\n",
        "#                 Buruk = 25\n",
        "def Z(baik, standar, buruk):\n",
        "  z = ((baik * 75) + (standar * 50) + (buruk * 25))/ (baik + standar + buruk)\n",
        "  return z"
      ]
    },
    {
      "cell_type": "code",
      "execution_count": 12,
      "metadata": {
        "id": "eTCKRmV1VgAc"
      },
      "outputs": [],
      "source": [
        "#Fungsi Menentukan Nilai Maksimal\n",
        "def maks(array):\n",
        "  maks = array[0]\n",
        "  i = 1\n",
        "  while i < len(array):\n",
        "    if array[i] > maks:\n",
        "      maks = array[i]\n",
        "    i = i + 1\n",
        "  return maks\n",
        "  "
      ]
    },
    {
      "cell_type": "code",
      "execution_count": 13,
      "metadata": {
        "id": "nN-xNc34d-wH"
      },
      "outputs": [],
      "source": [
        "#Fungsi Mengurutkan Array secara Descending\n",
        "def bubbleSort(arr):\n",
        "    n = len(arr)\n",
        "\n",
        "    for i in range(n-1):\n",
        "        for j in range(0, n-i-1):\n",
        "         if arr[j][1] < arr[j + 1][1] :\n",
        "                arr[j], arr[j + 1] = arr[j + 1], arr[j]"
      ]
    },
    {
      "cell_type": "markdown",
      "source": [
        "**MAIN PROGRAM**"
      ],
      "metadata": {
        "id": "BrmvQcbtEBJ4"
      }
    },
    {
      "cell_type": "code",
      "execution_count": 14,
      "metadata": {
        "colab": {
          "base_uri": "https://localhost:8080/"
        },
        "id": "pECpP9IYgMsK",
        "outputId": "fa717e7d-7f8f-44a1-ddc4-82fbb92cf478"
      },
      "outputs": [
        {
          "output_type": "stream",
          "name": "stdout",
          "text": [
            "1 ID:  3 NILAI:  75.0\n",
            "2 ID:  44 NILAI:  75.0\n",
            "3 ID:  75 NILAI:  75.0\n",
            "4 ID:  13 NILAI:  70.0\n",
            "5 ID:  52 NILAI:  70.0\n",
            "6 ID:  91 NILAI:  70.0\n",
            "7 ID:  92 NILAI:  70.0\n",
            "8 ID:  17 NILAI:  67.85714285714286\n",
            "9 ID:  2 NILAI:  67.5\n",
            "10 ID:  56 NILAI:  61.25\n"
          ]
        }
      ],
      "source": [
        "#MAIN PROGRAM\n",
        "\n",
        "id = data[\"id\"]\n",
        "servis = data[\"servis\"]\n",
        "harga = data[\"harga\"]\n",
        "dataServis = []\n",
        "\n",
        "i = 0\n",
        "\n",
        "#Fuzzy Rules sebanyak data (100 kali)\n",
        "while i < 100:\n",
        "  #Fuzzifikasi\n",
        "  fuzservis = fuzifikasiKualitasServis(servis[i])\n",
        "  fuzharga = fuzifikasiHarga(harga[i])\n",
        "\n",
        "  #Inferensi\n",
        "  baik = conjunctionbaik(fuzharga, fuzservis)\n",
        "  standard = conjunctionstandar(fuzharga, fuzservis)\n",
        "  buruk = conjunctionburuk(fuzharga, fuzservis)\n",
        "\n",
        "  maksbaik = maks(baik)\n",
        "  maksstandard = maks(standard)\n",
        "  maksburuk = maks(buruk)\n",
        "\n",
        "  #Defuzzifikasi\n",
        "  nilaiZ = Z(maksbaik, maksstandard, maksburuk)\n",
        "  dataServis.append([id[i], nilaiZ])\n",
        "\n",
        "  i = i + 1\n",
        "\n",
        "bubbleSort(dataServis)\n",
        "\n",
        "#Menampilkan 10 Bengkel Terbaik\n",
        "i = 0\n",
        "while i < 10:\n",
        "  print(i+1, \"ID: \",dataServis[i][0], \"NILAI: \",dataServis[i][1])\n",
        "  i = i + 1\n",
        "\n"
      ]
    },
    {
      "cell_type": "code",
      "execution_count": 15,
      "metadata": {
        "id": "R7sJDlEDmHqj",
        "colab": {
          "base_uri": "https://localhost:8080/"
        },
        "outputId": "06437cb0-e6f3-4df8-c99a-c4411e4ed57a"
      },
      "outputs": [
        {
          "output_type": "stream",
          "name": "stdout",
          "text": [
            "   ID       Skor\n",
            "0   3  75.000000\n",
            "1  44  75.000000\n",
            "2  75  75.000000\n",
            "3  13  70.000000\n",
            "4  52  70.000000\n",
            "5  91  70.000000\n",
            "6  92  70.000000\n",
            "7  17  67.857143\n",
            "8   2  67.500000\n",
            "9  56  61.250000\n"
          ]
        }
      ],
      "source": [
        "array_data = dataServis[:10]\n",
        "\n",
        "id = []\n",
        "skor = []\n",
        "\n",
        "for i in range(10):\n",
        "  id.append(array_data[i][0])\n",
        "  skor.append(array_data[i][1])\n",
        "\n",
        "#Mengkonversi hasil output ke file Peringkat.xslx\n",
        "data = pd.DataFrame(id, columns = ['ID'])\n",
        "data['Skor'] = skor\n",
        "data.to_excel('Peringkat.xlsx')\n",
        "print(data)"
      ]
    },
    {
      "cell_type": "markdown",
      "metadata": {
        "id": "a4IyDgzjYzEQ"
      },
      "source": []
    }
  ],
  "metadata": {
    "colab": {
      "provenance": [],
      "include_colab_link": true
    },
    "kernelspec": {
      "display_name": "Python 3",
      "name": "python3"
    },
    "language_info": {
      "name": "python"
    }
  },
  "nbformat": 4,
  "nbformat_minor": 0
}